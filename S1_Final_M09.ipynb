{
 "cells": [
  {
   "cell_type": "code",
   "execution_count": null,
   "id": "9db00d28",
   "metadata": {},
   "outputs": [],
   "source": [
    "#import\n",
    "import pandas as pd\n",
    "import numpy as np\n",
    "import hddm\n",
    "from scipy import stats\n",
    "import seaborn as sns\n",
    "import matplotlib.pyplot as plt\n",
    "import pymc\n",
    "import kabuki\n",
    "sns.set(style=\"white\")\n",
    "%matplotlib inline\n",
    "from tqdm import tqdm\n",
    "import warnings\n",
    "warnings.filterwarnings(\"ignore\", category=np.VisibleDeprecationWarning)"
   ]
  },
  {
   "cell_type": "code",
   "execution_count": null,
   "id": "ec32d3d6",
   "metadata": {},
   "outputs": [],
   "source": [
    "contdata = pd.read_csv(\"RLDDMS1_contingent.csv\")\n",
    "contdata.head()"
   ]
  },
  {
   "cell_type": "code",
   "execution_count": null,
   "id": "d26468b2",
   "metadata": {},
   "outputs": [],
   "source": [
    "contdata = hddm.utils.flip_errors(contdata)\n",
    "\n",
    "fig = plt.figure()\n",
    "ax = fig.add_subplot(111, xlabel = 'RT', ylabel = 'count', title = 'RT distribution')\n",
    "for i, subj_data in contdata.groupby('subj_idx'):\n",
    "    subj_data.rt.hist(bins = 20, histtype = 'step', ax = ax)\n",
    "    \n",
    "    plt.savefig('Reactions times Contingent.pdf')"
   ]
  },
  {
   "cell_type": "code",
   "execution_count": null,
   "id": "c8380784",
   "metadata": {},
   "outputs": [],
   "source": [
    "from kabuki.analyze import gelman_rubin\n",
    "\n",
    "models = []\n",
    "for i in range (3):\n",
    "    DDMCon = hddm.HDDM(contdata, depends_on = {'a': ['stim'], 't': ['stim'], 'v': ['stim']}, p_outlier = 0.05, bias = False)\n",
    "    DDMCon.find_starting_values()\n",
    "    DDMCon.sample(40000, burn = 30000, dbname = 'traces.db', db = 'pickle')\n",
    "    models.append(DDMCon) \n",
    "    \n",
    "gelman_rubin(models)"
   ]
  },
  {
   "cell_type": "code",
   "execution_count": null,
   "id": "ffddc8da",
   "metadata": {},
   "outputs": [],
   "source": [
    "M09_concat = kabuki.utils.concat_models(models)"
   ]
  },
  {
   "cell_type": "code",
   "execution_count": null,
   "id": "38626570",
   "metadata": {},
   "outputs": [],
   "source": [
    "np.max(list(gelman_rubin(models).values()))"
   ]
  },
  {
   "cell_type": "code",
   "execution_count": null,
   "id": "116d3b32",
   "metadata": {},
   "outputs": [],
   "source": [
    "M09_concat.print_stats()"
   ]
  },
  {
   "cell_type": "code",
   "execution_count": null,
   "id": "d020a003",
   "metadata": {},
   "outputs": [],
   "source": [
    "M09_concat.plot_posteriors()"
   ]
  },
  {
   "cell_type": "code",
   "execution_count": null,
   "id": "1984c734",
   "metadata": {},
   "outputs": [],
   "source": [
    "M09_traces = M09_concat.get_traces()"
   ]
  },
  {
   "cell_type": "code",
   "execution_count": null,
   "id": "2cf46d05",
   "metadata": {},
   "outputs": [],
   "source": [
    "M09_traces.to_csv(r'C:\\Users\\Hubsc\\OneDrive\\Desktop\\DiscriminationStudy\\M10_Draws.csv', index = False, header = True, sep = ';')"
   ]
  }
 ],
 "metadata": {
  "kernelspec": {
   "display_name": "Python 3",
   "language": "python",
   "name": "python3"
  },
  "language_info": {
   "codemirror_mode": {
    "name": "ipython",
    "version": 3
   },
   "file_extension": ".py",
   "mimetype": "text/x-python",
   "name": "python",
   "nbconvert_exporter": "python",
   "pygments_lexer": "ipython3",
   "version": "3.6.15"
  }
 },
 "nbformat": 4,
 "nbformat_minor": 5
}
